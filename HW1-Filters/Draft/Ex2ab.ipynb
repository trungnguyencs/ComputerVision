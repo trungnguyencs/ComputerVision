{
 "cells": [
  {
   "cell_type": "code",
   "execution_count": 1,
   "metadata": {},
   "outputs": [
    {
     "data": {
      "text/plain": [
       "-1"
      ]
     },
     "execution_count": 1,
     "metadata": {},
     "output_type": "execute_result"
    }
   ],
   "source": [
    "import cv2\n",
    "import numpy as np\n",
    "import matplotlib.pyplot as plt\n",
    "\n",
    "img = cv2.imread('input2.png')\n",
    "\n",
    "def ft(img, newsize=None):\n",
    "    dft = np.fft.fft2(np.float32(img),newsize)\n",
    "    return np.fft.fftshift(dft)\n",
    "\n",
    "def ift(shift):\n",
    "    f_ishift = np.fft.ifftshift(shift)\n",
    "    img_back = np.fft.ifft2(f_ishift)\n",
    "    return np.abs(img_back)\n",
    "\n",
    "img = cv2.cvtColor(img_in, cv2.COLOR_RGB2GRAY)\n",
    "dft = ft(img)\n",
    "\n",
    "rows, cols = img.shape\n",
    "crow,ccol = rows/2 , cols/2\n",
    "mask = np.zeros((rows,cols),np.uint8)\n",
    "mask[crow-10:crow+10, ccol-10:ccol+10] = 1\n",
    "fshift = dft*mask\n",
    "img_back = np.uint8(ift(fshift))\n",
    "\n",
    "# rows, cols = img.shape\n",
    "# crow,ccol = rows/2 , cols/2\n",
    "# mask = np.ones((rows,cols),np.uint8)\n",
    "# mask[crow-10:crow+10, ccol-10:ccol+10] = 0\n",
    "# fshift = dft*mask\n",
    "# img_back = np.uint8(ift(fshift))\n",
    "\n",
    "cv2.imshow('a',img_back)\n",
    "cv2.waitKey(0)\n",
    "cv2.destroyAllWindows()\n",
    "cv2.waitKey(1)\n",
    "\n"
   ]
  },
  {
   "cell_type": "code",
   "execution_count": null,
   "metadata": {
    "collapsed": true
   },
   "outputs": [],
   "source": []
  }
 ],
 "metadata": {
  "kernelspec": {
   "display_name": "Python [default]",
   "language": "python",
   "name": "python2"
  },
  "language_info": {
   "codemirror_mode": {
    "name": "ipython",
    "version": 2
   },
   "file_extension": ".py",
   "mimetype": "text/x-python",
   "name": "python",
   "nbconvert_exporter": "python",
   "pygments_lexer": "ipython2",
   "version": "2.7.13"
  }
 },
 "nbformat": 4,
 "nbformat_minor": 2
}
