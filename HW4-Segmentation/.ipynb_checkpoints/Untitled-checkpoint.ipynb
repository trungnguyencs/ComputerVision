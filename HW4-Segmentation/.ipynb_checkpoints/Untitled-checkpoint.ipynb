{
 "cells": [
  {
   "cell_type": "code",
   "execution_count": 1,
   "metadata": {
    "collapsed": true
   },
   "outputs": [],
   "source": [
    "import cv2\n",
    "import numpy as np\n",
    "import matplotlib.pyplot as plt\n",
    "from skimage.segmentation import slic\n",
    "from skimage.segmentation import mark_boundaries\n",
    "from skimage.data import astronaut\n",
    "from skimage.util import img_as_float\n",
    "import sys\n",
    "import maxflow\n",
    "from scipy.spatial import Delaunay"
   ]
  },
  {
   "cell_type": "code",
   "execution_count": 2,
   "metadata": {
    "collapsed": true
   },
   "outputs": [],
   "source": [
    "# Calculate the SLIC superpixels, their histograms and neighbors\n",
    "def superpixels_histograms_neighbors(img):\n",
    "    # SLIC\n",
    "    segments = slic(img, n_segments=500, compactness=20)\n",
    "    segments_ids = np.unique(segments)\n",
    "\n",
    "    # centers\n",
    "    centers = np.array([np.mean(np.nonzero(segments==i),axis=1) for i in segments_ids])\n",
    "\n",
    "    # H-S histograms for all superpixels\n",
    "    hsv = cv2.cvtColor(img.astype('float32'), cv2.COLOR_BGR2HSV)\n",
    "    bins = [20, 20] # H = S = 20\n",
    "    ranges = [0, 360, 0, 1] # H: [0, 360], S: [0, 1]\n",
    "    colors_hists = np.float32([cv2.calcHist([hsv],[0, 1], np.uint8(segments==i), bins, ranges).flatten() for i in segments_ids])\n",
    "\n",
    "    # neighbors via Delaunay tesselation\n",
    "    tri = Delaunay(centers)\n",
    "\n",
    "    return (centers,colors_hists,segments,tri.vertex_neighbor_vertices)"
   ]
  },
  {
   "cell_type": "code",
   "execution_count": 13,
   "metadata": {
    "collapsed": true
   },
   "outputs": [],
   "source": [
    "# Get superpixels IDs for FG and BG from marking\n",
    "def find_superpixels_under_marking(marking, superpixels):\n",
    "    fg_segments = np.unique(superpixels[marking[:,:,0]!=255])\n",
    "    bg_segments = np.unique(superpixels[marking[:,:,2]!=255])\n",
    "    return (fg_segments, bg_segments)"
   ]
  },
  {
   "cell_type": "code",
   "execution_count": 4,
   "metadata": {
    "collapsed": true
   },
   "outputs": [],
   "source": [
    "# Sum up the histograms for a given selection of superpixel IDs, normalize\n",
    "def cumulative_histogram_for_superpixels(ids, histograms):\n",
    "    h = np.sum(histograms[ids],axis=0)\n",
    "    return h / h.sum()"
   ]
  },
  {
   "cell_type": "code",
   "execution_count": 5,
   "metadata": {
    "collapsed": true
   },
   "outputs": [],
   "source": [
    "# Get a bool mask of the pixels for a given selection of superpixel IDs\n",
    "def pixels_for_segment_selection(superpixels_labels, selection):\n",
    "    pixels_mask = np.where(np.isin(superpixels_labels, selection), True, False)\n",
    "    return pixels_mask"
   ]
  },
  {
   "cell_type": "code",
   "execution_count": 6,
   "metadata": {
    "collapsed": true
   },
   "outputs": [],
   "source": [
    "# Get a normalized version of the given histograms (divide by sum)\n",
    "def normalize_histograms(histograms):\n",
    "    return np.float32([h / h.sum() for h in histograms])"
   ]
  },
  {
   "cell_type": "code",
   "execution_count": 7,
   "metadata": {
    "collapsed": true
   },
   "outputs": [],
   "source": [
    "# Perform graph cut using superpixels histograms\n",
    "def do_graph_cut(fgbg_hists, fgbg_superpixels, norm_hists, neighbors):\n",
    "    num_nodes = norm_hists.shape[0]\n",
    "    # Create a graph of N nodes, and estimate of 5 edges per node\n",
    "    g = maxflow.Graph[float](num_nodes, num_nodes * 5)\n",
    "    # Add N nodes\n",
    "    nodes = g.add_nodes(num_nodes)\n",
    "\n",
    "    hist_comp_alg = cv2.HISTCMP_KL_DIV\n",
    "\n",
    "    # Smoothness term: cost between neighbors\n",
    "    indptr,indices = neighbors\n",
    "    for i in range(len(indptr)-1):\n",
    "        N = indices[indptr[i]:indptr[i+1]] # list of neighbor superpixels\n",
    "        hi = norm_hists[i]                 # histogram for center\n",
    "        for n in N:\n",
    "            if (n < 0) or (n > num_nodes):\n",
    "                continue\n",
    "            # Create two edges (forwards and backwards) with capacities based on\n",
    "            # histogram matching\n",
    "            hn = norm_hists[n]             # histogram for neighbor\n",
    "            g.add_edge(nodes[i], nodes[n], 20-cv2.compareHist(hi, hn, hist_comp_alg),\n",
    "                                           20-cv2.compareHist(hn, hi, hist_comp_alg))\n",
    "\n",
    "    # Match term: cost to FG/BG\n",
    "    for i,h in enumerate(norm_hists):\n",
    "        if i in fgbg_superpixels[0]:\n",
    "            g.add_tedge(nodes[i], 0, 1000) # FG - set high cost to BG\n",
    "        elif i in fgbg_superpixels[1]:\n",
    "            g.add_tedge(nodes[i], 1000, 0) # BG - set high cost to FG\n",
    "        else:\n",
    "            g.add_tedge(nodes[i], cv2.compareHist(fgbg_hists[0], h, hist_comp_alg),\n",
    "                                  cv2.compareHist(fgbg_hists[1], h, hist_comp_alg))\n",
    "\n",
    "    g.maxflow()\n",
    "    return g.get_grid_segments(nodes)"
   ]
  },
  {
   "cell_type": "code",
   "execution_count": 8,
   "metadata": {
    "collapsed": true
   },
   "outputs": [],
   "source": [
    "def RMSD(target, master):\n",
    "    # Note: use grayscale images only\n",
    "\n",
    "    # Get width, height, and number of channels of the master image\n",
    "    master_height, master_width = master.shape[:2]\n",
    "    master_channel = len(master.shape)\n",
    "\n",
    "    # Get width, height, and number of channels of the target image\n",
    "    target_height, target_width = target.shape[:2]\n",
    "    target_channel = len(target.shape)\n",
    "\n",
    "    # Validate the height, width and channels of the input image\n",
    "    if (master_height != target_height or master_width != target_width or master_channel != target_channel):\n",
    "        return -1\n",
    "    else:\n",
    "\n",
    "        total_diff = 0.0;\n",
    "        dst = cv2.absdiff(master, target)\n",
    "        dst = cv2.pow(dst, 2)\n",
    "        mean = cv2.mean(dst)\n",
    "        total_diff = mean[0]**(1/2.0)\n",
    "\n",
    "        return total_diff;"
   ]
  },
  {
   "cell_type": "code",
   "execution_count": 11,
   "metadata": {
    "collapsed": true
   },
   "outputs": [],
   "source": [
    "img = cv2.imread('astronaut.png')"
   ]
  },
  {
   "cell_type": "code",
   "execution_count": 12,
   "metadata": {},
   "outputs": [
    {
     "ename": "NameError",
     "evalue": "name 'tri' is not defined",
     "output_type": "error",
     "traceback": [
      "\u001b[0;31m---------------------------------------------------------------------------\u001b[0m",
      "\u001b[0;31mNameError\u001b[0m                                 Traceback (most recent call last)",
      "\u001b[0;32m<ipython-input-12-06a4301b8bf5>\u001b[0m in \u001b[0;36m<module>\u001b[0;34m()\u001b[0m\n\u001b[0;32m----> 1\u001b[0;31m \u001b[0;34m(\u001b[0m\u001b[0mcenters\u001b[0m\u001b[0;34m,\u001b[0m\u001b[0mcolors_hists\u001b[0m\u001b[0;34m,\u001b[0m\u001b[0msegments\u001b[0m\u001b[0;34m,\u001b[0m\u001b[0mtri\u001b[0m\u001b[0;34m.\u001b[0m\u001b[0mvertex_neighbor_vertices\u001b[0m\u001b[0;34m)\u001b[0m \u001b[0;34m=\u001b[0m \u001b[0msuperpixels_histograms_neighbors\u001b[0m\u001b[0;34m(\u001b[0m\u001b[0mimg\u001b[0m\u001b[0;34m)\u001b[0m\u001b[0;34m\u001b[0m\u001b[0m\n\u001b[0m",
      "\u001b[0;31mNameError\u001b[0m: name 'tri' is not defined"
     ]
    }
   ],
   "source": [
    "(centers,colors_hists,segments,tri.vertex_neighbor_vertices) = superpixels_histograms_neighbors(img)"
   ]
  },
  {
   "cell_type": "code",
   "execution_count": null,
   "metadata": {
    "collapsed": true
   },
   "outputs": [],
   "source": []
  }
 ],
 "metadata": {
  "kernelspec": {
   "display_name": "Python [default]",
   "language": "python",
   "name": "python2"
  },
  "language_info": {
   "codemirror_mode": {
    "name": "ipython",
    "version": 2
   },
   "file_extension": ".py",
   "mimetype": "text/x-python",
   "name": "python",
   "nbconvert_exporter": "python",
   "pygments_lexer": "ipython2",
   "version": "2.7.13"
  }
 },
 "nbformat": 4,
 "nbformat_minor": 2
}
