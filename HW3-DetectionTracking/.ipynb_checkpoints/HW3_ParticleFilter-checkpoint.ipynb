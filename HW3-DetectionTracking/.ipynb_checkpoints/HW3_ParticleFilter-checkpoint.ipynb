{
 "cells": [
  {
   "cell_type": "markdown",
   "metadata": {},
   "source": [
    "Your goal is to:\n",
    "- Detect the face in the first frame of the movie\n",
    "- Using pre-trained Viola-Jones detector\n",
    "- Track the face throughout the movie using:\n",
    "   - CAMShift\n",
    "   - Particle Filter\n",
    "   - Face detector + Kalman Filter (always run the kf.predict(), and run kf.correct() when you get a new face detection)\n",
    "- Bonus (20pt): Face Detector + Optical Flow tracker (use the OF tracker whenever the face detector fails).\n"
   ]
  },
  {
   "cell_type": "code",
   "execution_count": 1,
   "metadata": {
    "collapsed": true
   },
   "outputs": [],
   "source": [
    "import os\n",
    "import sys\n",
    "import cv2\n",
    "import matplotlib.pyplot as plt\n",
    "import numpy as np\n",
    "\n",
    "face_cascade = cv2.CascadeClassifier('/usr/local/share/OpenCV/haarcascades/haarcascade_frontalface_default.xml')\n",
    "\n",
    "v = cv2.VideoCapture('02-1.mov')\n",
    "ret,frame = v.read()\n",
    "output = open('output_camshift1.txt','w')"
   ]
  },
  {
   "cell_type": "code",
   "execution_count": 2,
   "metadata": {
    "collapsed": true
   },
   "outputs": [],
   "source": [
    "def detect_one_face(im):\n",
    "    gray=cv2.cvtColor(im, cv2.COLOR_BGR2GRAY)\n",
    "\n",
    "    faces = face_cascade.detectMultiScale(gray, 1.2, 3)\n",
    "    if len(faces) == 0:\n",
    "        return (0,0,0,0)\n",
    "    return faces[0]"
   ]
  },
  {
   "cell_type": "code",
   "execution_count": 3,
   "metadata": {
    "collapsed": true
   },
   "outputs": [],
   "source": [
    "def hsv_histogram_for_window(frame, window):\n",
    "    # set up the ROI for tracking\n",
    "    c,r,w,h = window\n",
    "    roi = frame[r:r+h, c:c+w]\n",
    "    hsv_roi =  cv2.cvtColor(roi, cv2.COLOR_BGR2HSV)\n",
    "    mask = cv2.inRange(hsv_roi, np.array((0., 60.,32.)), np.array((180.,255.,255.)))\n",
    "    roi_hist = cv2.calcHist([hsv_roi],[0],mask,[180],[0,180])\n",
    "    cv2.normalize(roi_hist,roi_hist,0,255,cv2.NORM_MINMAX)\n",
    "    return roi_hist"
   ]
  },
  {
   "cell_type": "code",
   "execution_count": 4,
   "metadata": {
    "collapsed": true,
    "scrolled": true
   },
   "outputs": [],
   "source": [
    "frameCounter = 0\n",
    "# read first frame\n",
    "ret ,frame = v.read()\n",
    "\n",
    "# detect face in first frame\n",
    "c,r,w,h = detect_one_face(frame)\n",
    "\n",
    "# Write track point for first frame\n",
    "output.write(\"%d,%d,%d\\n\" % (frameCounter, r+h/2, c+w/2)) # Write as 0,pt_x,pt_y\n",
    "frameCounter = frameCounter + 1\n",
    "\n",
    "# set the initial tracking window\n",
    "track_window = (c,r,w,h)\n",
    "\n",
    "# calculate the HSV histogram in the window\n",
    "# NOTE: you do not need this in the Kalman, Particle or OF trackers\n",
    "roi_hist = hsv_histogram_for_window(frame, (c,r,w,h)) # this is provided for you"
   ]
  },
  {
   "cell_type": "code",
   "execution_count": 5,
   "metadata": {},
   "outputs": [
    {
     "data": {
      "image/png": "[encoded data removed]",
      "text/plain": [
       "<matplotlib.figure.Figure at 0x118e42750>"
      ]
     },
     "metadata": {},
     "output_type": "display_data"
    }
   ],
   "source": [
    "plt.plot(roi_hist)\n",
    "plt.show()"
   ]
  },
  {
   "cell_type": "code",
   "execution_count": 6,
   "metadata": {
    "collapsed": true
   },
   "outputs": [],
   "source": [
    "term_crit = ( cv2.TERM_CRITERIA_EPS | cv2.TERM_CRITERIA_COUNT, 10, 1 )\n",
    "\n",
    "while(1):\n",
    "    ret ,frame = v.read() # read another frame\n",
    "    if ret == False:\n",
    "        break\n",
    "\n",
    "    # perform the tracking\n",
    "    # e.g. cv2.meanShift, cv2.CamShift, or kalman.predict(), kalman.correct()\n",
    "\n",
    "    # use the tracking result to get the tracking point (pt):\n",
    "    # if you track a rect (e.g. face detector) take the mid point,\n",
    "    # if you track particles - take the weighted average\n",
    "    # the Kalman filter already has the tracking point in the state vector\n",
    "    hsv = cv2.cvtColor(frame, cv2.COLOR_BGR2HSV)\n",
    "    dst = cv2.calcBackProject([hsv],[0],roi_hist,[0,180],1)\n",
    "\n",
    "    ret, track_window = cv2.CamShift(dst, track_window, term_crit)\n",
    "    (c,r,w,h) = track_window\n",
    "    # write the result to the output file\n",
    "    output.write(\"%d,%d,%d\\n\" % (frameCounter, r+h/2, c+w/2)) # Write as frame_index,pt_x,pt_y\n",
    "    frameCounter = frameCounter + 1\n",
    "\n",
    "output.close()"
   ]
  },
  {
   "cell_type": "code",
   "execution_count": 8,
   "metadata": {},
   "outputs": [
    {
     "ename": "NameError",
     "evalue": "name 'hist_bp' is not defined",
     "output_type": "error",
     "traceback": [
      "\u001b[0;31m---------------------------------------------------------------------------\u001b[0m",
      "\u001b[0;31mNameError\u001b[0m                                 Traceback (most recent call last)",
      "\u001b[0;32m<ipython-input-8-a9fe991878c5>\u001b[0m in \u001b[0;36m<module>\u001b[0;34m()\u001b[0m\n\u001b[1;32m      9\u001b[0m \u001b[0minit_pos\u001b[0m \u001b[0;34m=\u001b[0m \u001b[0mnp\u001b[0m\u001b[0;34m.\u001b[0m\u001b[0marray\u001b[0m\u001b[0;34m(\u001b[0m\u001b[0;34m[\u001b[0m\u001b[0mc\u001b[0m \u001b[0;34m+\u001b[0m \u001b[0mw\u001b[0m\u001b[0;34m/\u001b[0m\u001b[0;36m2.0\u001b[0m\u001b[0;34m,\u001b[0m\u001b[0mr\u001b[0m \u001b[0;34m+\u001b[0m \u001b[0mh\u001b[0m\u001b[0;34m/\u001b[0m\u001b[0;36m2.0\u001b[0m\u001b[0;34m]\u001b[0m\u001b[0;34m,\u001b[0m \u001b[0mint\u001b[0m\u001b[0;34m)\u001b[0m \u001b[0;31m# Initial position\u001b[0m\u001b[0;34m\u001b[0m\u001b[0m\n\u001b[1;32m     10\u001b[0m \u001b[0mparticles\u001b[0m \u001b[0;34m=\u001b[0m \u001b[0mnp\u001b[0m\u001b[0;34m.\u001b[0m\u001b[0mones\u001b[0m\u001b[0;34m(\u001b[0m\u001b[0;34m(\u001b[0m\u001b[0mn_particles\u001b[0m\u001b[0;34m,\u001b[0m \u001b[0;36m2\u001b[0m\u001b[0;34m)\u001b[0m\u001b[0;34m,\u001b[0m \u001b[0mint\u001b[0m\u001b[0;34m)\u001b[0m \u001b[0;34m*\u001b[0m \u001b[0minit_pos\u001b[0m \u001b[0;31m# Init particles to init position\u001b[0m\u001b[0;34m\u001b[0m\u001b[0m\n\u001b[0;32m---> 11\u001b[0;31m \u001b[0mf0\u001b[0m \u001b[0;34m=\u001b[0m \u001b[0mparticleevaluator\u001b[0m\u001b[0;34m(\u001b[0m\u001b[0mhist_bp\u001b[0m\u001b[0;34m,\u001b[0m \u001b[0mpos\u001b[0m\u001b[0;34m)\u001b[0m \u001b[0;34m*\u001b[0m \u001b[0mnp\u001b[0m\u001b[0;34m.\u001b[0m\u001b[0mones\u001b[0m\u001b[0;34m(\u001b[0m\u001b[0mn_particles\u001b[0m\u001b[0;34m)\u001b[0m \u001b[0;31m# Evaluate appearance model\u001b[0m\u001b[0;34m\u001b[0m\u001b[0m\n\u001b[0m\u001b[1;32m     12\u001b[0m \u001b[0mweights\u001b[0m \u001b[0;34m=\u001b[0m \u001b[0mnp\u001b[0m\u001b[0;34m.\u001b[0m\u001b[0mones\u001b[0m\u001b[0;34m(\u001b[0m\u001b[0mn_particles\u001b[0m\u001b[0;34m)\u001b[0m \u001b[0;34m/\u001b[0m \u001b[0mn_particles\u001b[0m   \u001b[0;31m# weights are uniform (at first)\u001b[0m\u001b[0;34m\u001b[0m\u001b[0m\n",
      "\u001b[0;31mNameError\u001b[0m: name 'hist_bp' is not defined"
     ]
    }
   ],
   "source": [
    "# a function that, given a particle position, will return the particle's \"fitness\"\n",
    "def particleevaluator(back_proj, particle):\n",
    "    return back_proj[particle[1],particle[0]]\n",
    "\n",
    "# hist_bp: obtain using cv2.calcBackProject and the HSV histogram\n",
    "# c,r,w,h: obtain using detect_one_face()\n",
    "n_particles = 200\n",
    "\n",
    "init_pos = np.array([c + w/2.0,r + h/2.0], int) # Initial position\n",
    "particles = np.ones((n_particles, 2), int) * init_pos # Init particles to init position\n",
    "f0 = particleevaluator(hist_bp, pos) * np.ones(n_particles) # Evaluate appearance model\n",
    "weights = np.ones(n_particles) / n_particles   # weights are uniform (at first)"
   ]
  },
  {
   "cell_type": "code",
   "execution_count": 9,
   "metadata": {
    "collapsed": true
   },
   "outputs": [],
   "source": [
    "def resample(weights):\n",
    "    n = len(weights)\n",
    "    indices = []\n",
    "    C = [0.] + [sum(weights[:i+1]) for i in range(n)]\n",
    "    u0, j = random(), 0\n",
    "    for u in [(u0+i)/n for i in range(n)]:\n",
    "        while u > C[j]:\n",
    "            j+=1\n",
    "        indices.append(j-1)\n",
    "    return indices\n",
    "\n",
    "def particlefilter(sequence, pos, stepsize, n):\n",
    "    seq = iter(sequence)\n",
    "    x = ones((n, 2), int) * pos # Initial position\n",
    "    f0 = seq.next()[tuple(pos)] * ones(n) # Target colour model\n",
    "    yield pos, x, ones(n)/n # Return expected position, particles and weights\n",
    "    for im in seq:\n",
    "        np.add(x, uniform(-stepsize, stepsize, x.shape), out=x, casting=\"unsafe\") # Particle motion model: uniform step\n",
    "        x = x.clip(zeros(2), array(im.shape)-1).astype(int) # Clip out-of-bounds particles\n",
    "        f = im[tuple(x.T)] # Measure particle colours\n",
    "        w = 1./(1. + (f0-f)**2) # Weight~ inverse quadratic colour distance\n",
    "        w /= sum(w) # Normalize w\n",
    "        yield sum(x.T*w, axis=1), x, w # Return expected position, particles and weights\n",
    "        if 1./sum(w**2) < n/2.: # If particle cloud degenerate:\n",
    "            x = x[resample(w),:] # Resample particles according to weights"
   ]
  },
  {
   "cell_type": "code",
   "execution_count": 10,
   "metadata": {
    "collapsed": true
   },
   "outputs": [],
   "source": [
    "term_crit = ( cv2.TERM_CRITERIA_EPS | cv2.TERM_CRITERIA_COUNT, 10, 1 )\n",
    "\n",
    "while(1):\n",
    "    ret ,frame = v.read() # read another frame\n",
    "    if ret == False:\n",
    "        break\n",
    "\n",
    "    # perform the tracking\n",
    "    # e.g. cv2.meanShift, cv2.CamShift, or kalman.predict(), kalman.correct()\n",
    "\n",
    "    # use the tracking result to get the tracking point (pt):\n",
    "    # if you track a rect (e.g. face detector) take the mid point,\n",
    "    # if you track particles - take the weighted average\n",
    "    # the Kalman filter already has the tracking point in the state vector\n",
    "    hsv = cv2.cvtColor(frame, cv2.COLOR_BGR2HSV)\n",
    "    dst = cv2.calcBackProject([hsv],[0],roi_hist,[0,180],1)\n",
    "\n",
    "    ret, track_window = cv2.CamShift(dst, track_window, term_crit)\n",
    "    (c,r,w,h) = track_window\n",
    "    # write the result to the output file\n",
    "    output.write(\"%d,%d,%d\\n\" % (frameCounter, r+h/2, c+w/2)) # Write as frame_index,pt_x,pt_y\n",
    "    frameCounter = frameCounter + 1\n",
    "\n",
    "output.close()"
   ]
  },
  {
   "cell_type": "code",
   "execution_count": 7,
   "metadata": {
    "collapsed": true
   },
   "outputs": [],
   "source": [
    "def resample(weights):\n",
    "    n = len(weights)\n",
    "    indices = []\n",
    "    C = [0.] + [sum(weights[:i+1]) for i in range(n)]\n",
    "    u0, j = np.random.random(), 0\n",
    "    for u in [(u0+i)/n for i in range(n)]:\n",
    "      while u > C[j]:\n",
    "          j+=1\n",
    "      indices.append(j-1)\n",
    "    return indices"
   ]
  }
 ],
 "metadata": {
  "kernelspec": {
   "display_name": "Python [default]",
   "language": "python",
   "name": "python2"
  },
  "language_info": {
   "codemirror_mode": {
    "name": "ipython",
    "version": 2
   },
   "file_extension": ".py",
   "mimetype": "text/x-python",
   "name": "python",
   "nbconvert_exporter": "python",
   "pygments_lexer": "ipython2",
   "version": "2.7.13"
  }
 },
 "nbformat": 4,
 "nbformat_minor": 2
}
