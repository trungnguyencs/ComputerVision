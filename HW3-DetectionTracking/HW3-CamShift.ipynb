{
 "cells": [
  {
   "cell_type": "markdown",
   "metadata": {},
   "source": [
    "Your goal is to:\n",
    "- Detect the face in the first frame of the movie\n",
    "- Using pre-trained Viola-Jones detector\n",
    "- Track the face throughout the movie using:\n",
    "   - CAMShift\n",
    "   - Particle Filter\n",
    "   - Face detector + Kalman Filter (always run the kf.predict(), and run kf.correct() when you get a new face detection)\n",
    "- Bonus (20pt): Face Detector + Optical Flow tracker (use the OF tracker whenever the face detector fails).\n"
   ]
  },
  {
   "cell_type": "code",
   "execution_count": 1,
   "metadata": {},
   "outputs": [
    {
     "name": "stderr",
     "output_type": "stream",
     "text": [
      "/Users/trungnguyen/anaconda/lib/python2.7/site-packages/skvideo/__init__.py:356: UserWarning: avconv/avprobe not found in path: \n",
      "  warnings.warn(\"avconv/avprobe not found in path: \" + str(path), UserWarning)\n"
     ]
    }
   ],
   "source": [
    "import os\n",
    "import sys\n",
    "import cv2\n",
    "import matplotlib.pyplot as plt\n",
    "import numpy as np\n",
    "\n",
    "face_cascade = cv2.CascadeClassifier('/usr/local/share/OpenCV/haarcascades/haarcascade_frontalface_default.xml')\n",
    "\n",
    "Debug_laptop = 1\n",
    "filename = \"02-1.avi\"\n",
    "if Debug_laptop:\n",
    "    import skvideo.io\n",
    "    v = skvideo.io.vread(filename)\n",
    "else:\n",
    "    v = cv2.VideoCapture(filename)"
   ]
  },
  {
   "cell_type": "code",
   "execution_count": 2,
   "metadata": {
    "collapsed": true
   },
   "outputs": [],
   "source": [
    "def detect_one_face(im):\n",
    "    gray=cv2.cvtColor(im, cv2.COLOR_BGR2GRAY)\n",
    "\n",
    "    faces = face_cascade.detectMultiScale(gray, 1.2, 3)\n",
    "    if len(faces) == 0:\n",
    "        return (0,0,0,0)\n",
    "    return faces[0]"
   ]
  },
  {
   "cell_type": "code",
   "execution_count": 3,
   "metadata": {
    "collapsed": true
   },
   "outputs": [],
   "source": [
    "def hsv_histogram_for_window(frame, window):\n",
    "    # set up the ROI for tracking\n",
    "    c,r,w,h = window\n",
    "    roi = frame[r:r+h, c:c+w]\n",
    "    hsv_roi =  cv2.cvtColor(roi, cv2.COLOR_BGR2HSV)\n",
    "    mask = cv2.inRange(hsv_roi, np.array((0., 60.,32.)), np.array((180.,255.,255.)))\n",
    "    roi_hist = cv2.calcHist([hsv_roi],[0],mask,[180],[0,180])\n",
    "    cv2.normalize(roi_hist,roi_hist,0,255,cv2.NORM_MINMAX)\n",
    "    return roi_hist"
   ]
  },
  {
   "cell_type": "code",
   "execution_count": 4,
   "metadata": {
    "collapsed": true
   },
   "outputs": [],
   "source": [
    "def resample(weights):\n",
    "    n = len(weights)\n",
    "    indices = []\n",
    "    C = [0.] + [sum(weights[:i+1]) for i in range(n)]\n",
    "    u0, j = np.random.random(), 0\n",
    "    for u in [(u0+i)/n for i in range(n)]:\n",
    "      while u > C[j]:\n",
    "          j+=1\n",
    "      indices.append(j-1)\n",
    "    return indices"
   ]
  },
  {
   "cell_type": "code",
   "execution_count": 7,
   "metadata": {
    "scrolled": true
   },
   "outputs": [
    {
     "name": "stdout",
     "output_type": "stream",
     "text": [
      "(0, 91, 68)\n"
     ]
    }
   ],
   "source": [
    "output_name = \"output_camshift_IPython.txt\"\n",
    "output = open(output_name,\"w\")\n",
    "frameCounter = 0\n",
    "# read first frame\n",
    "\n",
    "frame = v[0]            # first frame\n",
    "\n",
    "# detect face in first frame\n",
    "c,r,w,h = detect_one_face(frame)\n",
    "faces = (c,r,w,h)\n",
    "pt = (frameCounter, c + w / 2, r + h / 2)\n",
    "output.write(\"%d,%d,%d\\n\" % pt)  \n",
    "frameCounter = frameCounter + 1\n",
    "\n",
    "while (1):\n",
    "    if frameCounter == len(v): break\n",
    "    frame = v[frameCounter]  # read frame\n",
    "    \n",
    "    # set up the ROI for tracking\n",
    "    track_window = faces\n",
    "    roi_hist = hsv_histogram_for_window(frame, (c, r, w, h))  # this is provided for you\n",
    "    \n",
    "    # Setup the termination criteria, either 10 iteration or move by atleast 1 pt\n",
    "    term_crit = (cv2.TERM_CRITERIA_EPS | cv2.TERM_CRITERIA_COUNT, 10, 1)\n",
    "    hsv = cv2.cvtColor(frame, cv2.COLOR_BGR2HSV)\n",
    "    dst = cv2.calcBackProject([hsv], [0], roi_hist, [0, 180], 1)\n",
    "    # apply meanshift to get the new location\n",
    "    ret, track_window = cv2.CamShift(dst, track_window, term_crit)\n",
    "\n",
    "    (c,r,w,h) = track_window\n",
    "    pt = (frameCounter, c + w / 2, r + h / 2)\n",
    "    frameCounter = frameCounter + 1\n",
    "    output.write(\"%d,%d,%d\\n\" % pt)  \n",
    "    \n",
    "        # Draw it on image\n",
    "    pts = cv2.boxPoints(ret)\n",
    "    pts = np.int0(pts)\n",
    "    img2 = cv2.polylines(frame, [pts], True, 255, 2)\n",
    "    cv2.imshow('img2', img2)\n",
    "    dst_draw = cv2.polylines(dst, [pts], True, 255, 2)\n",
    "    # cv2.imshow(\"BackProject\", dst_draw)\n",
    "    cv2.waitKey(10)\n",
    "\n",
    "cv2.destroyAllWindows()\n",
    "output.close()"
   ]
  },
  {
   "cell_type": "code",
   "execution_count": null,
   "metadata": {
    "collapsed": true
   },
   "outputs": [],
   "source": []
  }
 ],
 "metadata": {
  "kernelspec": {
   "display_name": "Python [default]",
   "language": "python",
   "name": "python2"
  },
  "language_info": {
   "codemirror_mode": {
    "name": "ipython",
    "version": 2
   },
   "file_extension": ".py",
   "mimetype": "text/x-python",
   "name": "python",
   "nbconvert_exporter": "python",
   "pygments_lexer": "ipython2",
   "version": "2.7.13"
  }
 },
 "nbformat": 4,
 "nbformat_minor": 2
}
