{
 "cells": [
  {
   "cell_type": "code",
   "execution_count": 1,
   "metadata": {
    "collapsed": true
   },
   "outputs": [],
   "source": [
    "# ================================================\n",
    "# Skeleton codes for HW5\n",
    "# Read the skeleton codes carefully and put all your\n",
    "# codes into function \"reconstruct_from_binary_patterns\"\n",
    "# ================================================\n",
    "\n",
    "import cv2\n",
    "import numpy as np\n",
    "from math import log, ceil, floor\n",
    "import matplotlib.pyplot as plt\n",
    "import pickle\n",
    "import sys"
   ]
  },
  {
   "cell_type": "code",
   "execution_count": 2,
   "metadata": {
    "collapsed": true
   },
   "outputs": [],
   "source": [
    "scale_factor = 1.0\n",
    "ref_white = cv2.resize(cv2.imread(\"images/pattern000.jpg\", cv2.IMREAD_GRAYSCALE) / 255.0, (0,0), fx=scale_factor,fy=scale_factor)\n",
    "ref_black = cv2.resize(cv2.imread(\"images/pattern001.jpg\", cv2.IMREAD_GRAYSCALE) / 255.0, (0,0), fx=scale_factor,fy=scale_factor)\n",
    "ref_avg   = (ref_white + ref_black) / 2.0\n",
    "ref_on    = ref_avg + 0.05 # a threshold for ON pixels\n",
    "ref_off   = ref_avg - 0.05 # add a small buffer region\n",
    "\n",
    "h,w = ref_white.shape\n",
    "\n",
    "# mask of pixels where there is projection\n",
    "proj_mask = (ref_white > (ref_black + 0.05))"
   ]
  },
  {
   "cell_type": "code",
   "execution_count": 3,
   "metadata": {
    "collapsed": true
   },
   "outputs": [],
   "source": [
    "scan_bits = np.zeros((h,w), dtype=np.uint16)\n",
    "# analyze the binary patterns from the camera\n",
    "for i in range(0,15):\n",
    "    # read the file\n",
    "    patt_gray = cv2.resize(cv2.imread(\"images/pattern%03d.jpg\"%(i+2), cv2.IMREAD_GRAYSCALE) / 255.0, (0,0), fx=scale_factor,fy=scale_factor)\n",
    "\n",
    "    # mask where the pixels are ON\n",
    "    on_mask = (patt_gray > ref_on) & proj_mask\n",
    "\n",
    "    # this code corresponds with the binary pattern code\n",
    "    bit_code = np.uint16(1 << i)\n",
    "    # TODO: populate scan_bits by putting the bit_code according to on_mask\n",
    "    scan_bits[on_mask] += bit_code\n",
    "    patt = cv2.resize(cv2.imread(\"images/pattern001.jpg\"), (0,0), fx=scale_factor,fy=scale_factor)"
   ]
  },
  {
   "cell_type": "code",
   "execution_count": 4,
   "metadata": {},
   "outputs": [
    {
     "name": "stdout",
     "output_type": "stream",
     "text": [
      "load codebook\n"
     ]
    }
   ],
   "source": [
    "print(\"load codebook\")\n",
    "# the codebook translates from <binary code> to (x,y) in projector screen space\n",
    "with open(\"binary_codes_ids_codebook.pckl\",\"r\") as f:\n",
    "    binary_codes_ids_codebook = pickle.load(f)"
   ]
  },
  {
   "cell_type": "code",
   "execution_count": 5,
   "metadata": {},
   "outputs": [],
   "source": [
    "rgb = np.ndarray((h,w,3))\n",
    "\n",
    "camera_points = []\n",
    "projector_points = []\n",
    "ref_rgb = cv2.imread(\"images/pattern001.jpg\")\n",
    "colors = []\n",
    "for x in range(w):\n",
    "    for y in range(h):\n",
    "        if not proj_mask[y,x]:\n",
    "            continue # no projection here\n",
    "        if scan_bits[y,x] not in binary_codes_ids_codebook:\n",
    "            continue # bad binary code\n",
    "                    \n",
    "        (x_p,y_p) = binary_codes_ids_codebook[scan_bits[y,x]]\n",
    "        if x_p >= 1279 or y_p >= 799: # filter\n",
    "            continue           \n",
    "        camera_points.append([x/2,y/2]) \n",
    "        projector_points.append([x_p,y_p])\n",
    "        \n",
    "        color_pixel = ref_rgb[y,x]\n",
    "        colors.append(color_pixel)\n",
    "\n",
    "        rgb[y,x] = [x_p,y_p,0]\n",
    "        camera_points\n",
    "plt.figure(figsize=(12,12))\n",
    "plt.imshow(rgb/np.max(rgb))\n",
    "plt.show()\n",
    "        # TODO: use binary_codes_ids_codebook[...] and scan_bits[y,x] to\n",
    "        # TODO: find for the camera (x,y) the projector (p_x, p_y).\n",
    "        # TODO: store your points in camera_points and projector_points\n",
    "        # IMPORTANT!!! : due to differences in calibration and acquisition - divide the camera points by 2"
   ]
  },
  {
   "cell_type": "code",
   "execution_count": 6,
   "metadata": {},
   "outputs": [
    {
     "data": {
      "text/plain": [
       "True"
      ]
     },
     "execution_count": 6,
     "metadata": {},
     "output_type": "execute_result"
    }
   ],
   "source": [
    "bgr = rgb.copy()\n",
    "bgr[:,:,0] = rgb[:,:,2]\n",
    "bgr[:,:,2] = rgb[:,:,0]\n",
    "bgr = np.uint8(bgr/np.max(bgr)*255)\n",
    "cv2.imwrite('correspondence.jpg', bgr)"
   ]
  },
  {
   "cell_type": "code",
   "execution_count": 7,
   "metadata": {},
   "outputs": [],
   "source": [
    "colors = np.array(colors).reshape(-1,3)\n",
    "colors = colors.reshape(colors.shape[0],1,3)"
   ]
  },
  {
   "cell_type": "code",
   "execution_count": 8,
   "metadata": {
    "collapsed": true
   },
   "outputs": [],
   "source": [
    "camera_x = np.array(zip(*camera_points)[0])\n",
    "camera_y = np.array(zip(*camera_points)[1])\n",
    "camera_pts = np.ndarray((camera_x.shape[0],1,2))\n",
    "camera_pts[:,0,0] = camera_x\n",
    "camera_pts[:,0,1] = camera_y\n",
    "\n",
    "projector_x = np.array(zip(*projector_points)[0])\n",
    "projector_y = np.array(zip(*projector_points)[1])\n",
    "projector_pts = np.ndarray((projector_x.shape[0],1,2))\n",
    "projector_pts[:,0,0] = projector_x\n",
    "projector_pts[:,0,1] = projector_y"
   ]
  },
  {
   "cell_type": "code",
   "execution_count": 9,
   "metadata": {
    "collapsed": true
   },
   "outputs": [],
   "source": [
    "# now that we have 2D-2D correspondances, we can triangulate 3D points!\n",
    "\n",
    "# load the prepared stereo calibration between projector and camera\n",
    "with open(\"stereo_calibration.pckl\",\"r\") as f:\n",
    "    d = pickle.load(f)\n",
    "    camera_K    = d['camera_K']\n",
    "    camera_d    = d['camera_d']\n",
    "    projector_K = d['projector_K']\n",
    "    projector_d = d['projector_d']\n",
    "    projector_R = d['projector_R']\n",
    "    projector_t = d['projector_t']"
   ]
  },
  {
   "cell_type": "code",
   "execution_count": 10,
   "metadata": {
    "collapsed": true,
    "scrolled": false
   },
   "outputs": [],
   "source": [
    "points_3d = np.ndarray(3,)\n",
    "\n",
    "# TODO: use cv2.undistortPoints to get normalized points for camera, use camera_K and camera_d\n",
    "# TODO: use cv2.undistortPoints to get normalized points for projector, use projector_K and projector_d\n",
    "\n",
    "# TODO: use cv2.triangulatePoints to triangulate the normalized points\n",
    "# TODO: use cv2.convertPointsFromHomogeneous to get real 3D points\n",
    "# TODO: name the resulted 3D points as \"points_3d\"\n",
    "camera = cv2.undistortPoints(camera_pts, camera_K, camera_d)\n",
    "projector = cv2.undistortPoints(projector_pts, projector_K, projector_d)\n",
    "projMatr = np.hstack((projector_R,projector_t))\n",
    "triang = cv2.triangulatePoints(np.eye(3,4), projMatr, camera, projector)"
   ]
  },
  {
   "cell_type": "code",
   "execution_count": 11,
   "metadata": {
    "collapsed": true
   },
   "outputs": [],
   "source": [
    "points_3d = cv2.convertPointsFromHomogeneous(triang.T)\n",
    "mask = (points_3d[:,:,2] > 200) & (points_3d[:,:,2] < 1400)\n",
    "# print(\"points_3d before: \", points_3d.shape)\n",
    "p = np.ndarray((points_3d[mask].shape[0], 1, 3),np.float64)\n",
    "p[:,0,:] = points_3d[mask]\n",
    "points_3d = p\n"
   ]
  },
  {
   "cell_type": "code",
   "execution_count": 13,
   "metadata": {},
   "outputs": [
    {
     "name": "stdout",
     "output_type": "stream",
     "text": [
      "write output point cloud\n",
      "(237381, 1, 3)\n"
     ]
    }
   ],
   "source": [
    "def write_3d_points(points_3d):\n",
    "    \n",
    "    # ===== DO NOT CHANGE THIS FUNCTION =====\n",
    "    \n",
    "    print(\"write output point cloud\")\n",
    "    print(points_3d.shape)\n",
    "    output_name = \"output.xyz\"\n",
    "    with open(output_name,\"w\") as f:\n",
    "        for p in points_3d:\n",
    "            f.write(\"%d %d %d\\n\"%(p[0,0],p[0,1],p[0,2]))\n",
    "\n",
    "write_3d_points(points_3d)"
   ]
  },
  {
   "cell_type": "code",
   "execution_count": 14,
   "metadata": {},
   "outputs": [
    {
     "data": {
      "text/plain": [
       "(237381, 6)"
      ]
     },
     "execution_count": 14,
     "metadata": {},
     "output_type": "execute_result"
    }
   ],
   "source": [
    "colors = colors[mask]\n",
    "output_color = np.hstack([points_3d[:,0,:], colors])"
   ]
  },
  {
   "cell_type": "code",
   "execution_count": 15,
   "metadata": {
    "collapsed": true
   },
   "outputs": [],
   "source": [
    "def write_color(output_color):\n",
    "    \n",
    "    # ===== DO NOT CHANGE THIS FUNCTION =====\n",
    "    \n",
    "    output_name = \"output_color.xyzrgb\"\n",
    "    with open(output_name,\"w\") as f:\n",
    "        for p in output_color:\n",
    "            f.write(\"%d %d %d %d %d %d\\n\"%(p[0],p[1],p[2],p[5],p[4],p[3]))\n",
    "\n",
    "write_color(output_color)"
   ]
  }
 ],
 "metadata": {
  "kernelspec": {
   "display_name": "Python [default]",
   "language": "python",
   "name": "python2"
  },
  "language_info": {
   "codemirror_mode": {
    "name": "ipython",
    "version": 2
   },
   "file_extension": ".py",
   "mimetype": "text/x-python",
   "name": "python",
   "nbconvert_exporter": "python",
   "pygments_lexer": "ipython2",
   "version": "2.7.13"
  }
 },
 "nbformat": 4,
 "nbformat_minor": 2
}
