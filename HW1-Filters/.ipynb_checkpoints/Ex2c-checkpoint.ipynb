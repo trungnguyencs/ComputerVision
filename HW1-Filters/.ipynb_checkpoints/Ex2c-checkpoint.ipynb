{
 "cells": [
  {
   "cell_type": "code",
   "execution_count": null,
   "metadata": {
    "collapsed": true
   },
   "outputs": [],
   "source": [
    "import cv2\n",
    "import numpy as np\n",
    "\n",
    "img = cv2.imread(\"blurred2.png\", cv2.IMREAD_ANYCOLOR | cv2.IMREAD_ANYDEPTH)\n",
    "\n",
    "gk = cv2.getGaussianKernel(21,5)\n",
    "gk = gk * gk.T\n",
    "\n",
    "def ft(img, newsize=None):\n",
    "    dft = np.fft.fft2(np.float32(img),newsize)\n",
    "    return np.fft.fftshift(dft)\n",
    "\n",
    "def ift(shift):\n",
    "    f_ishift = np.fft.ifftshift(shift)\n",
    "    img_back = np.fft.ifft2(f_ishift)\n",
    "    return np.abs(img_back)\n",
    "\n",
    "dft = ft(img, (img.shape[0],img.shape[1])) # make sure sizes match\n",
    "gkf = ft(gk, (img.shape[0],img.shape[1])) # so we can multiple easily\n",
    "\n",
    "fshift = dft/gkf\n",
    "img_back = abs(ift(fshift))\n",
    "\n",
    "#cv2.imwrite('a.jpg', img_back)\n",
    "#cv2.imshow('a',img_back)\n",
    "cv2.waitKey(0)\n",
    "cv2.destroyAllWindows()\n",
    "cv2.waitKey(1)\n"
   ]
  },
  {
   "cell_type": "code",
   "execution_count": null,
   "metadata": {
    "collapsed": true
   },
   "outputs": [],
   "source": []
  }
 ],
 "metadata": {
  "kernelspec": {
   "display_name": "Python [default]",
   "language": "python",
   "name": "python2"
  },
  "language_info": {
   "codemirror_mode": {
    "name": "ipython",
    "version": 2
   },
   "file_extension": ".py",
   "mimetype": "text/x-python",
   "name": "python",
   "nbconvert_exporter": "python",
   "pygments_lexer": "ipython2",
   "version": "2.7.13"
  }
 },
 "nbformat": 4,
 "nbformat_minor": 2
}
