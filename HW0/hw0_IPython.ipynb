{
 "cells": [
  {
   "cell_type": "code",
   "execution_count": 1,
   "metadata": {},
   "outputs": [
    {
     "data": {
      "text/plain": [
       "-1"
      ]
     },
     "execution_count": 1,
     "metadata": {},
     "output_type": "execute_result"
    }
   ],
   "source": [
    "import numpy as np\n",
    "import cv2\n",
    "#from matplotlib import pyplot as plt\n",
    "\n",
    "#Load input image and display to the screen:\n",
    "img = cv2.imread('teton1.jpg')\n",
    "cv2.imshow('Original image', img)\n",
    "\n",
    "#Create an mask of the same size of the input with all 1 elements:\n",
    "unit_image = np.ones(img.shape)\n",
    "\n",
    "added_scalar = 100\n",
    "subtracted_scalar = 100\n",
    "multiple_scalar = 2\n",
    "divide_scalar = 2\n",
    "\n",
    "#Arithmetic operations and display:\n",
    "img_add = cv2.add(img, np.uint8(added_scalar * unit_image))\n",
    "img_sub = cv2.subtract(img, np.uint8(subtracted_scalar * unit_image))\n",
    "img_multiple = cv2.multiply(img, np.uint8(multiple_scalar * unit_image))\n",
    "img_divide = cv2.divide(img, np.uint8(divide_scalar * unit_image))\n",
    "cv2.imshow('Image added by 100', img_add)\n",
    "cv2.imshow('Substracted image', img_sub)\n",
    "cv2.imshow('Image multiplied by 2', img_multiple)\n",
    "cv2.imshow('Image divided by 2', img_divide)\n",
    "\n",
    "#Scaling image size by 1/2 and display:\n",
    "img_scaled = cv2.resize(img, None, fx=0.5, fy=0.5)\n",
    "cv2.imshow('Image resized by 1/2 uniformly', img_scaled)\n",
    "\n",
    "#Press any key to close all windows\n",
    "cv2.waitKey(0)\n",
    "cv2.destroyAllWindows()\n",
    "cv2.waitKey(1)"
   ]
  },
  {
   "cell_type": "code",
   "execution_count": null,
   "metadata": {
    "collapsed": true
   },
   "outputs": [],
   "source": []
  },
  {
   "cell_type": "code",
   "execution_count": null,
   "metadata": {
    "collapsed": true
   },
   "outputs": [],
   "source": []
  }
 ],
 "metadata": {
  "kernelspec": {
   "display_name": "Python [default]",
   "language": "python",
   "name": "python2"
  },
  "language_info": {
   "codemirror_mode": {
    "name": "ipython",
    "version": 2
   },
   "file_extension": ".py",
   "mimetype": "text/x-python",
   "name": "python",
   "nbconvert_exporter": "python",
   "pygments_lexer": "ipython2",
   "version": "2.7.13"
  }
 },
 "nbformat": 4,
 "nbformat_minor": 2
}
