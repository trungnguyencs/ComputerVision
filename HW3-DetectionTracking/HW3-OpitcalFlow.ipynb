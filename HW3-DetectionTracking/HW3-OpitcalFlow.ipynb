{
 "cells": [
  {
   "cell_type": "markdown",
   "metadata": {},
   "source": [
    "Your goal is to:\n",
    "- Detect the face in the first frame of the movie\n",
    "- Using pre-trained Viola-Jones detector\n",
    "- Track the face throughout the movie using:\n",
    "   - CAMShift\n",
    "   - Particle Filter\n",
    "   - Face detector + Kalman Filter (always run the kf.predict(), and run kf.correct() when you get a new face detection)\n",
    "- Bonus (20pt): Face Detector + Optical Flow tracker (use the OF tracker whenever the face detector fails).\n"
   ]
  },
  {
   "cell_type": "code",
   "execution_count": 1,
   "metadata": {},
   "outputs": [
    {
     "name": "stderr",
     "output_type": "stream",
     "text": [
      "/Users/trungnguyen/anaconda/lib/python2.7/site-packages/skvideo/__init__.py:356: UserWarning: avconv/avprobe not found in path: \n",
      "  warnings.warn(\"avconv/avprobe not found in path: \" + str(path), UserWarning)\n"
     ]
    }
   ],
   "source": [
    "import os\n",
    "import sys\n",
    "import cv2\n",
    "import matplotlib.pyplot as plt\n",
    "import numpy as np\n",
    "\n",
    "face_cascade = cv2.CascadeClassifier('/usr/local/share/OpenCV/haarcascades/haarcascade_frontalface_default.xml')\n",
    "\n",
    "Debug_laptop = 1\n",
    "filename = \"02-1.avi\"\n",
    "if Debug_laptop:\n",
    "    import skvideo.io\n",
    "    v = skvideo.io.vread(filename)\n",
    "else :\n",
    "    v = cv2.VideoCapture(filename)\n",
    "\n",
    "output_name = \"output_of.txt\"\n",
    "output = open(output_name, \"w\")"
   ]
  },
  {
   "cell_type": "code",
   "execution_count": 2,
   "metadata": {
    "collapsed": true
   },
   "outputs": [],
   "source": [
    "def detect_one_face(im):\n",
    "    gray=cv2.cvtColor(im, cv2.COLOR_BGR2GRAY)\n",
    "\n",
    "    faces = face_cascade.detectMultiScale(gray, 1.2, 3)\n",
    "    if len(faces) == 0:\n",
    "        return (0,0,0,0)\n",
    "    return faces[0]"
   ]
  },
  {
   "cell_type": "code",
   "execution_count": 3,
   "metadata": {},
   "outputs": [],
   "source": [
    "# params for ShiTomasi corner detection\n",
    "feature_params = dict( maxCorners = 100,\n",
    "                       qualityLevel = 0.05,\n",
    "                       minDistance = 7,\n",
    "                       blockSize = 7 )\n",
    "# Parameters for lucas kanade optical flow\n",
    "lk_params = dict( winSize  = (15,15),\n",
    "                  maxLevel = 2,\n",
    "                  criteria = (cv2.TERM_CRITERIA_EPS | cv2.TERM_CRITERIA_COUNT, 10, 0.03))\n",
    "# Create some random colors\n",
    "color = np.random.randint(0,255,(100,3))\n",
    "\n",
    "# read first frame\n",
    "old_frame = v[0]\n",
    "frameCounter = 0\n",
    "\n",
    "# detect face in first frame\n",
    "c,r,w,h = detect_one_face(old_frame)\n",
    "faces = (c,r,w,h)\n",
    "pt = (frameCounter, c+w/2, r+h/2)\n",
    "output.write(\"%d,%d,%d\\n\" % pt)  \n",
    "frameCounter = frameCounter + 1\n",
    "\n",
    "# Take first frame and find corners in it\n",
    "old_gray = cv2.cvtColor(old_frame, cv2.COLOR_BGR2GRAY)\n",
    "\n",
    "roi = np.zeros(old_gray.shape)\n",
    "roi[r:r+h,c:c+w] = 1\n",
    "\n",
    "p0 = cv2.goodFeaturesToTrack(old_gray, mask = np.uint8(roi), **feature_params)\n",
    "\n",
    "# Create a mask image for drawing purposes\n",
    "mask = np.zeros_like(old_frame)\n",
    "\n",
    "while (1):\n",
    "    if frameCounter == len(v): break\n",
    "    \n",
    "    frame = v[frameCounter]  # read frame\n",
    "    frame_gray = cv2.cvtColor(frame, cv2.COLOR_BGR2GRAY)\n",
    "    \n",
    "    # calculate optical flow\n",
    "    p1, st, err = cv2.calcOpticalFlowPyrLK(old_gray, frame_gray, p0, None, **lk_params)\n",
    "    \n",
    "    # Select good points    \n",
    "    good_old = p0[st==1]\n",
    "    good_new = p1[st==1]\n",
    "    average_point = np.uint8(np.average(good_new, axis=0))\n",
    "    pt = (frameCounter, average_point[0], average_point[1])\n",
    "    output.write(\"%d,%d,%d\\n\" % pt)  \n",
    "        \n",
    "    # draw the tracks\n",
    "    for i,(new,old) in enumerate(zip(good_new,good_old)):\n",
    "        a,b = new.ravel()\n",
    "        c,d = old.ravel()\n",
    "        mask = cv2.line(mask, (a,b),(c,d), color[i].tolist(), 2)\n",
    "        frame = cv2.circle(frame,(a,b),5,color[i].tolist(),-1)\n",
    "    img = cv2.add(frame,mask)\n",
    "    cv2.imshow('frame',img)\n",
    "    k = cv2.waitKey(30) & 0xff\n",
    "    if k == 27:\n",
    "        break\n",
    "        \n",
    "    # Now update the previous frame and previous points\n",
    "    old_gray = frame_gray.copy()\n",
    "    p0 = good_new.reshape(-1,1,2)\n",
    "    frameCounter = frameCounter + 1\n",
    "    \n",
    "cv2.destroyAllWindows()\n",
    "\n",
    "output.close()"
   ]
  },
  {
   "cell_type": "code",
   "execution_count": 4,
   "metadata": {},
   "outputs": [],
   "source": []
  },
  {
   "cell_type": "code",
   "execution_count": null,
   "metadata": {},
   "outputs": [],
   "source": []
  },
  {
   "cell_type": "code",
   "execution_count": null,
   "metadata": {
    "collapsed": true
   },
   "outputs": [],
   "source": []
  }
 ],
 "metadata": {
  "kernelspec": {
   "display_name": "Python [default]",
   "language": "python",
   "name": "python2"
  },
  "language_info": {
   "codemirror_mode": {
    "name": "ipython",
    "version": 2
   },
   "file_extension": ".py",
   "mimetype": "text/x-python",
   "name": "python",
   "nbconvert_exporter": "python",
   "pygments_lexer": "ipython2",
   "version": "2.7.13"
  }
 },
 "nbformat": 4,
 "nbformat_minor": 2
}
