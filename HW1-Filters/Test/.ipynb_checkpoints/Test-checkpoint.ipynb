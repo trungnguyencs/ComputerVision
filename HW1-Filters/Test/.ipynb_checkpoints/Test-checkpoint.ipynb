{
 "cells": [
  {
   "cell_type": "code",
   "execution_count": 2,
   "metadata": {},
   "outputs": [
    {
     "name": "stdout",
     "output_type": "stream",
     "text": [
      "0\n",
      "0\n",
      "0\n",
      "0\n",
      "0\n"
     ]
    }
   ],
   "source": [
    "import cv2\n",
    "import numpy as np\n",
    "\n",
    "I1 = cv2.imread('output1.jpg')\n",
    "I2 = cv2.imread('output2.jpg')\n",
    "I3 = cv2.imread('output3.jpg')\n",
    "I4 = cv2.imread('output4.jpg')\n",
    "I5 = cv2.imread('output5.jpg')\n",
    "\n",
    "J1 = cv2.imread('./AHan/output1.jpg')\n",
    "J2 = cv2.imread('./AHan/output2.jpg')\n",
    "J3 = cv2.imread('./AHan/output3.jpg')\n",
    "J4 = cv2.imread('./AHan/output4.jpg')\n",
    "J5 = cv2.imread('./AHan/output5.jpg')\n",
    "\n",
    "print np.sum(I1-J1)\n",
    "print np.sum(I2-J2)\n",
    "print np.sum(I3-J3)\n",
    "print np.sum(I4-J4)\n",
    "print np.sum(I5-J5)\n",
    "\n"
   ]
  },
  {
   "cell_type": "code",
   "execution_count": null,
   "metadata": {
    "collapsed": true
   },
   "outputs": [],
   "source": []
  },
  {
   "cell_type": "code",
   "execution_count": null,
   "metadata": {
    "collapsed": true
   },
   "outputs": [],
   "source": []
  },
  {
   "cell_type": "code",
   "execution_count": null,
   "metadata": {
    "collapsed": true
   },
   "outputs": [],
   "source": []
  }
 ],
 "metadata": {
  "kernelspec": {
   "display_name": "Python [default]",
   "language": "python",
   "name": "python2"
  },
  "language_info": {
   "codemirror_mode": {
    "name": "ipython",
    "version": 2
   },
   "file_extension": ".py",
   "mimetype": "text/x-python",
   "name": "python",
   "nbconvert_exporter": "python",
   "pygments_lexer": "ipython2",
   "version": "2.7.13"
  }
 },
 "nbformat": 4,
 "nbformat_minor": 2
}
